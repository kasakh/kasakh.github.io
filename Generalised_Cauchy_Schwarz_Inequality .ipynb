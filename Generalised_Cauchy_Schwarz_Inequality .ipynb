{
 "cells": [
  {
   "cell_type": "markdown",
   "metadata": {},
   "source": [
    "# $y^Tx \\leq \\left\\Vert x \\right \\Vert \\left\\Vert y \\right \\Vert_{*} $"
   ]
  },
  {
   "cell_type": "markdown",
   "metadata": {},
   "source": [
    "The well known CS inequality is : if $x = (x_1,x_2,\\dots,x_n) $ and $y = (y_1,y_2,\\dots,y_n)$, then $x_1y_1 + \\dots x_ny_n \\leq \\sqrt{(x_1^2 + \\dots + x_n^2)(y_1^2 + \\dots + y_n^2)}$. However, this is a special case of a more generalized CS inequality. \n",
    "\n",
    "#### Some definitions\n",
    "\n",
    "##### Dual Norm\n",
    "The dual norm $\\left\\Vert .\\right \\Vert_{*}$ of a vector $z$ is given by \n",
    "\\begin{align}\n",
    "\\left\\Vert z \\right \\Vert_{*} = \\sup\\{ u^Tz | \\left\\Vert u \\right \\Vert = 1 \\}\n",
    "\\end{align}\n",
    "\n",
    "For example: \n",
    "The dual norm of L-1 norm is L-$\\infty$ norm. This can be seen from $\\sup \\{ u_1z_1 + \\dots + u_nz_n | \\sum_i u_i = 1 \\} = \\max_i \\left\\Vert z_i \\right\\Vert$\n",
    "\n",
    "L-2 norm is self dual - this is because $\\sup \\{ u_1z_1 + \\dots + u_nz_n | \\sum_i u_i^2 = 1 \\} = \\sup \\left\\Vert z \\right \\Vert_{2} \\cos \\theta = \\left\\Vert z \\right \\Vert_{2} $ \n",
    "\n",
    "Dual of Dual norm is the original norm - (Proof is slightly involved)\n",
    "\n",
    "\n",
    "#### The Generalized CS inequality directly follows from the definition of dual norm\n",
    "\n",
    "\n",
    "\n",
    "\n",
    "\n"
   ]
  }
 ],
 "metadata": {
  "kernelspec": {
   "display_name": "Python 3",
   "language": "python",
   "name": "python3"
  },
  "language_info": {
   "codemirror_mode": {
    "name": "ipython",
    "version": 3
   },
   "file_extension": ".py",
   "mimetype": "text/x-python",
   "name": "python",
   "nbconvert_exporter": "python",
   "pygments_lexer": "ipython3",
   "version": "3.7.6"
  }
 },
 "nbformat": 4,
 "nbformat_minor": 2
}
