{
 "cells": [
  {
   "cell_type": "markdown",
   "metadata": {},
   "source": [
    "## Theory behind Reparameterization Trick - somemore additions to the original version by Goker Erdogan"
   ]
  },
  {
   "cell_type": "markdown",
   "metadata": {},
   "source": [
    "Here we will understand the reparameterization trick used by Kingma and Welling (2014) to train their variational autoencoder.  \n",
    "\n",
    "Assume we have a normal distribution $q$ that is parameterized by $\\theta$, specifically $q_{\\theta}(x) = N(\\theta,1)$. We want to solve the below problem\n",
    "$$\n",
    "\\text{min}_{\\theta} \\quad E_q[x^2]\n",
    "$$\n",
    "This is of course a rather silly problem and the optimal $\\theta$ is obvious. We want to understand how the reparameterization trick helps in calculating the gradient of this objective $E_q[x^2]$."
   ]
  },
  {
   "cell_type": "markdown",
   "metadata": {},
   "source": [
    "What is the expected value of $E_q[x^2]$ ?\n",
    "<br> It is nothing but variance + (mean)^2. Therefore, in this case, it is $\\theta^2$ + 1 "
   ]
  },
  {
   "cell_type": "markdown",
   "metadata": {},
   "source": [
    "One way to calculate $\\nabla_{\\theta} E_q[x^2]$ is as follows\n",
    "$$\n",
    "\\nabla_{\\theta} E_q[x^2] = \\nabla_{\\theta} \\int q_{\\theta}(x) x^2 dx = \\int x^2 \\nabla_{\\theta} q_{\\theta}(x) \\frac{q_{\\theta}(x)}{q_{\\theta}(x)} dx = \\int q_{\\theta}(x) \\nabla_{\\theta} \\log q_{\\theta}(x) x^2 dx = E_q[x^2 \\nabla_{\\theta} \\log q_{\\theta}(x)]\n",
    "$$\n",
    "\n",
    "For our example where $q_{\\theta}(x) = N(\\theta,1)$, this method gives\n",
    "$$\n",
    "\\nabla_{\\theta} E_q[x^2] = E_q[x^2 (x-\\theta)]\n",
    "$$"
   ]
  },
  {
   "cell_type": "markdown",
   "metadata": {},
   "source": [
    " What is the variance of $E_q[x^2 (x-\\theta)]$ in this case? <br>\n",
    "It can be found using some complicated, yet straightforward math. $Var(\\mu^2 \\epsilon + 2\\mu \\epsilon^2 + \\epsilon^3) \\le \\mu^4Var(\\epsilon) \\le \\mu^4$ <br>\n",
    "Therefore, variance of the sample mean of $E_q[x^2 (x-\\theta)]$ will be at least $\\frac{\\mu^4}{\\sqrt{n}}.  $ We can indeed verify that this variance increases with $\\mu$. Note that the pathwise gradient does not have this problem.\n"
   ]
  },
  {
   "cell_type": "markdown",
   "metadata": {},
   "source": [
    "Reparameterization trick is a way to rewrite the expectation so that the distribution with respect to which we take the expectation is independent of parameter $\\theta$. To achieve this, we need to make the stochastic element in $q$ independent of $\\theta$. Hence, we write $x$ as\n",
    "$$\n",
    "x = \\theta + \\epsilon, \\quad \\epsilon \\sim N(0,1)\n",
    "$$\n",
    "Then, we can write \n",
    "$$\n",
    "E_q[x^2] = E_p[(\\theta+\\epsilon)^2]\n",
    "$$ \n",
    "where $p$ is the distribution of $\\epsilon$, i.e., $N(0,1)$. Now we can write the derivative of $E_q[x^2]$ as follows\n",
    "$$\n",
    "\\nabla_{\\theta} E_q[x^2] = \\nabla_{\\theta} E_p[(\\theta+\\epsilon)^2] = E_p[2(\\theta+\\epsilon)]\n",
    "$$"
   ]
  },
  {
   "cell_type": "markdown",
   "metadata": {},
   "source": [
    "In the above case, it is easy to note that the sample mean will have a variance of $\\frac{4}{\\sqrt{n}}$,which looks independent of $\\mu$."
   ]
  },
  {
   "cell_type": "markdown",
   "metadata": {},
   "source": [
    "Now let us compare the variances of the two methods; we are hoping to see that the first method has high variance while reparameterization trick decreases the variance substantially."
   ]
  },
  {
   "cell_type": "markdown",
   "metadata": {},
   "source": [
    "### With mean = 2"
   ]
  },
  {
   "cell_type": "code",
   "execution_count": 1,
   "metadata": {},
   "outputs": [
    {
     "name": "stdout",
     "output_type": "stream",
     "text": [
      "3.95569048662\n",
      "3.9150255039\n"
     ]
    }
   ],
   "source": [
    "import numpy as np\n",
    "N = 1000\n",
    "theta = 2.0\n",
    "eps = np.random.randn(N)\n",
    "x = theta + eps\n",
    "\n",
    "grad1 = lambda x: np.sum(np.square(x)*(x-theta)) / x.size\n",
    "grad2 = lambda eps: np.sum(2*(theta + eps)) / x.size\n",
    "\n",
    "print(grad1(x))\n",
    "print(grad2(eps))"
   ]
  },
  {
   "cell_type": "markdown",
   "metadata": {},
   "source": [
    "Let us plot the variance for different sample sizes."
   ]
  },
  {
   "cell_type": "code",
   "execution_count": 2,
   "metadata": {},
   "outputs": [
    {
     "name": "stdout",
     "output_type": "stream",
     "text": [
      "[ 3.81095352  4.03655932  3.96279395  4.0045522   4.00203414]\n",
      "[ 4.04018422  3.9878957   4.00037079  3.99667789  4.00066778]\n",
      "\n",
      "[  1.32731049e+01   9.12063666e-01   8.03604324e-02   1.01701641e-02\n",
      "   7.13464452e-04]\n",
      "[  3.96371303e-01   3.66080170e-02   5.87655498e-03   3.65440156e-04\n",
      "   3.89156655e-05]\n"
     ]
    }
   ],
   "source": [
    "Ns = [10, 100, 1000, 10000, 100000]\n",
    "reps = 100\n",
    "\n",
    "means1 = np.zeros(len(Ns))\n",
    "vars1 = np.zeros(len(Ns))\n",
    "means2 = np.zeros(len(Ns))\n",
    "vars2 = np.zeros(len(Ns))\n",
    "\n",
    "est1 = np.zeros(reps)\n",
    "est2 = np.zeros(reps)\n",
    "for i, N in enumerate(Ns):\n",
    "    for r in range(reps):\n",
    "        x = np.random.randn(N) + theta\n",
    "        est1[r] = grad1(x)\n",
    "        eps = np.random.randn(N)\n",
    "        est2[r] = grad2(eps)\n",
    "    means1[i] = np.mean(est1)\n",
    "    means2[i] = np.mean(est2)\n",
    "    vars1[i] = np.var(est1)\n",
    "    vars2[i] = np.var(est2)\n",
    "    \n",
    "print(means1)\n",
    "print(means2)\n",
    "print()\n",
    "print(vars1)\n",
    "print(vars2)"
   ]
  },
  {
   "cell_type": "code",
   "execution_count": 3,
   "metadata": {},
   "outputs": [
    {
     "data": {
      "text/plain": [
       "<matplotlib.legend.Legend at 0x1dd308df828>"
      ]
     },
     "execution_count": 3,
     "metadata": {},
     "output_type": "execute_result"
    },
    {
     "data": {
      "image/png": "[encoded data removed]",
      "text/plain": [
       "<matplotlib.figure.Figure at 0x1dd3281cac8>"
      ]
     },
     "metadata": {},
     "output_type": "display_data"
    }
   ],
   "source": [
    "%matplotlib inline\n",
    "import matplotlib.pyplot as plt\n",
    "\n",
    "plt.plot(vars1)\n",
    "plt.plot(vars2)\n",
    "plt.legend(['no rt', 'rt'])"
   ]
  },
  {
   "cell_type": "markdown",
   "metadata": {},
   "source": [
    "### With Mean = 4"
   ]
  },
  {
   "cell_type": "code",
   "execution_count": 4,
   "metadata": {},
   "outputs": [
    {
     "name": "stdout",
     "output_type": "stream",
     "text": [
      "6.87862307368\n",
      "7.9292520907\n"
     ]
    }
   ],
   "source": [
    "import numpy as np\n",
    "N = 1000\n",
    "theta = 4.0\n",
    "eps = np.random.randn(N)\n",
    "x = theta + eps\n",
    "\n",
    "grad1 = lambda x: np.sum(np.square(x)*(x-theta)) / x.size\n",
    "grad2 = lambda eps: np.sum(2*(theta + eps)) / x.size\n",
    "\n",
    "print(grad1(x))\n",
    "print(grad2(eps))"
   ]
  },
  {
   "cell_type": "code",
   "execution_count": 5,
   "metadata": {},
   "outputs": [
    {
     "name": "stdout",
     "output_type": "stream",
     "text": [
      "[ 8.26682027  7.82919365  7.99299786  7.97066258  8.00084004]\n",
      "[ 8.04052111  7.99936387  7.9954101   7.99919523  8.00066903]\n",
      "\n",
      "[  6.95956617e+01   6.44329020e+00   5.44355317e-01   3.08962462e-02\n",
      "   7.23940750e-03]\n",
      "[  4.18539528e-01   4.05795454e-02   4.69016086e-03   4.58622290e-04\n",
      "   4.22305479e-05]\n"
     ]
    }
   ],
   "source": [
    "Ns = [10, 100, 1000, 10000, 100000]\n",
    "reps = 100\n",
    "\n",
    "means1 = np.zeros(len(Ns))\n",
    "vars1 = np.zeros(len(Ns))\n",
    "means2 = np.zeros(len(Ns))\n",
    "vars2 = np.zeros(len(Ns))\n",
    "\n",
    "est1 = np.zeros(reps)\n",
    "est2 = np.zeros(reps)\n",
    "for i, N in enumerate(Ns):\n",
    "    for r in range(reps):\n",
    "        x = np.random.randn(N) + theta\n",
    "        est1[r] = grad1(x)\n",
    "        eps = np.random.randn(N)\n",
    "        est2[r] = grad2(eps)\n",
    "    means1[i] = np.mean(est1)\n",
    "    means2[i] = np.mean(est2)\n",
    "    vars1[i] = np.var(est1)\n",
    "    vars2[i] = np.var(est2)\n",
    "    \n",
    "print(means1)\n",
    "print(means2)\n",
    "print()\n",
    "print(vars1)\n",
    "print(vars2)"
   ]
  },
  {
   "cell_type": "code",
   "execution_count": 6,
   "metadata": {},
   "outputs": [
    {
     "data": {
      "text/plain": [
       "<matplotlib.legend.Legend at 0x1dd338c4cc0>"
      ]
     },
     "execution_count": 6,
     "metadata": {},
     "output_type": "execute_result"
    },
    {
     "data": {
      "image/png": "[encoded data removed]",
      "text/plain": [
       "<matplotlib.figure.Figure at 0x1dd314a0dd8>"
      ]
     },
     "metadata": {},
     "output_type": "display_data"
    }
   ],
   "source": [
    "%matplotlib inline\n",
    "import matplotlib.pyplot as plt\n",
    "\n",
    "plt.plot(vars1)\n",
    "plt.plot(vars2)\n",
    "plt.legend(['no rt', 'rt'])"
   ]
  },
  {
   "cell_type": "markdown",
   "metadata": {},
   "source": [
    "Variance of the estimates using reparameterization trick is one order of magnitude smaller than the estimates from the first method!"
   ]
  },
  {
   "cell_type": "markdown",
   "metadata": {},
   "source": [
    "Here are some additional resources I found interesting:\n",
    "\n",
    "<ol>\n",
    "  <li>Section 3.1 from [Yarin Gal's Thesis](http://mlg.eng.cam.ac.uk/yarin/thesis/thesis.pdf) contains a different and more rigorous derivation</li>\n",
    "  <li>[Miller's blog](http://andymiller.github.io/2016/12/19/elbo-gradient-estimators.html) reconciles various estimators like score fucntion estimators, pathwise estimators, etc. It was here I came across the relation between Control variates in linear regression and variance reduction in pathwise estimators. Mind = Blown </li>\n",
    "  <li> I am looking for a more rigorous formulation of the above relation between reparameterization trick and control variates in linear regression. If you have come across any, do let me know. you can mail me at kasa at the rate u dot nus.edu <li>\n",
    "  \n",
    "</ol>"
   ]
  },
  {
   "cell_type": "code",
   "execution_count": 7,
   "metadata": {},
   "outputs": [
    {
     "name": "stdout",
     "output_type": "stream",
     "text": [
      "3.6.1 |Anaconda 4.4.0 (64-bit)| (default, May 11 2017, 13:25:24) [MSC v.1900 64 bit (AMD64)]\n",
      "3.6.1\n",
      "The Python version is 3.6.1\n"
     ]
    }
   ],
   "source": [
    "import sys\n",
    "print(sys.version)\n",
    "import platform\n",
    "print(platform.python_version())\n",
    "print(\"The Python version is %s.%s.%s\" % sys.version_info[:3])"
   ]
  }
 ],
 "metadata": {
  "kernelspec": {
   "display_name": "Python 3",
   "language": "python",
   "name": "python3"
  },
  "language_info": {
   "codemirror_mode": {
    "name": "ipython",
    "version": 3
   },
   "file_extension": ".py",
   "mimetype": "text/x-python",
   "name": "python",
   "nbconvert_exporter": "python",
   "pygments_lexer": "ipython3",
   "version": "3.6.1"
  }
 },
 "nbformat": 4,
 "nbformat_minor": 1
}
